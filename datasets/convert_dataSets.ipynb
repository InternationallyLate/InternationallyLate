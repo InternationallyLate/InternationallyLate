{
 "cells": [
  {
   "cell_type": "code",
   "execution_count": 12,
   "id": "880aa5a2-d4bf-4b61-acd0-32fae6eea96b",
   "metadata": {
    "tags": []
   },
   "outputs": [],
   "source": [
    "import PyPDF2\n",
    "import json\n",
    "\n",
    "def pdf_to_json(pdf_file_path, json_file_path):\n",
    "    pdf_data = []\n",
    "    with open(pdf_file_path, 'rb') as pdf_file:\n",
    "        pdf_reader = PyPDF2.PdfReader(pdf_file)\n",
    "        for page_num in range(len(pdf_reader.pages)):\n",
    "            page = pdf_reader.pages[page_num]\n",
    "            pdf_data.append(page.extract_text())\n",
    "\n",
    "    with open(json_file_path, 'w') as json_file:\n",
    "        json.dump(pdf_data, json_file)\n",
    "\n",
    "# Usage\n",
    "pdf_file_path = './pdfs/tax_income_fl.pdf'\n",
    "json_file_path = 'tax_income_fl.json'\n",
    "pdf_to_json(pdf_file_path, json_file_path)\n"
   ]
  },
  {
   "cell_type": "code",
   "execution_count": null,
   "id": "4549df19-b8cd-47d9-875b-2d5886c161b7",
   "metadata": {},
   "outputs": [],
   "source": []
  }
 ],
 "metadata": {
  "kernelspec": {
   "display_name": "Python 3 (ipykernel)",
   "language": "python",
   "name": "python3"
  },
  "language_info": {
   "codemirror_mode": {
    "name": "ipython",
    "version": 3
   },
   "file_extension": ".py",
   "mimetype": "text/x-python",
   "name": "python",
   "nbconvert_exporter": "python",
   "pygments_lexer": "ipython3",
   "version": "3.11.4"
  }
 },
 "nbformat": 4,
 "nbformat_minor": 5
}
